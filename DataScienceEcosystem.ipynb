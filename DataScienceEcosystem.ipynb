{
  "metadata": {
    "kernelspec": {
      "name": "python",
      "display_name": "Python (Pyodide)",
      "language": "python"
    },
    "language_info": {
      "codemirror_mode": {
        "name": "python",
        "version": 3
      },
      "file_extension": ".py",
      "mimetype": "text/x-python",
      "name": "python",
      "nbconvert_exporter": "python",
      "pygments_lexer": "ipython3",
      "version": "3.8"
    }
  },
  "nbformat_minor": 5,
  "nbformat": 4,
  "cells": [
    {
      "id": "548713df-4905-4391-8bd3-a68900370682",
      "cell_type": "markdown",
      "source": "# Data Science Tools and Ecosystem",
      "metadata": {}
    },
    {
      "id": "6b386dd7-438c-4e16-8650-c2d49f50547c",
      "cell_type": "markdown",
      "source": "In this notebook, Data Science Tools and Ecosystem are summarized.",
      "metadata": {}
    },
    {
      "id": "7651b1e3-2393-46ba-abd8-326e7f312575",
      "cell_type": "markdown",
      "source": "**Objectives:**\n\n- List popular languages for Data Science.\n- Practice basic arithmetic operations in Python.\n- Learn to format output using the `print` function.\n- Exploring different languages like SQL and NoSQL to work with structured and unstructured relational databases.\n- Gain familiarity with writing clean and readable code in Jupyter Notebook.\n",
      "metadata": {}
    },
    {
      "id": "cf67bc54-2f1c-4ec4-8409-11f926598e26",
      "cell_type": "markdown",
      "source": "Some of the popular languages that Data Scientists use are:\n1. Python\n2. R\n3. SQL\n4. Julia",
      "metadata": {}
    },
    {
      "id": "f8d7368d-8aab-48d0-af78-da1e7aea6f9e",
      "cell_type": "markdown",
      "source": "Some of the commonly used libraries used by Data Scientists include:\n1. NumPy\n2. Pandas\n3. TensorFlow",
      "metadata": {}
    },
    {
      "id": "a1443f37-54c5-4ce5-842d-87039b98708d",
      "cell_type": "markdown",
      "source": "| Data Science Tools |\n|--------------------|\n| Jupyter Notebook   |\n| RStudio            |\n| VS Code            |",
      "metadata": {}
    },
    {
      "id": "c6094198-ae95-48fa-b4eb-88291345058e",
      "cell_type": "markdown",
      "source": "### Below are a few examples of evaluating arithmetic expressions in Python.",
      "metadata": {}
    },
    {
      "id": "a362c7e7-1e6b-4f15-a521-8e05fa4efc7d",
      "cell_type": "code",
      "source": "#This a simple arithmetic expression to mutiply then add integers\n(3*4)+5",
      "metadata": {
        "trusted": true
      },
      "outputs": [
        {
          "execution_count": 4,
          "output_type": "execute_result",
          "data": {
            "text/plain": "17"
          },
          "metadata": {}
        }
      ],
      "execution_count": 4
    },
    {
      "id": "81455677-887f-4701-9013-f668efbd0a73",
      "cell_type": "code",
      "source": "#This will convert 200 minutes to hours by dividing by 60\nH = 200/60\nprint(f\"200 minutes is equivalent to {H} hours\")",
      "metadata": {
        "trusted": true
      },
      "outputs": [
        {
          "name": "stdout",
          "output_type": "stream",
          "text": "200 minutes is equivalent to 3.3333333333333335 hours\n"
        }
      ],
      "execution_count": 11
    },
    {
      "id": "32dcf2d6-f297-42c3-ae15-203819c5ed75",
      "cell_type": "markdown",
      "source": "## Author\nAiden Huggard",
      "metadata": {}
    },
    {
      "id": "6a253a38-a746-420f-8710-04b918b89774",
      "cell_type": "code",
      "source": "",
      "metadata": {
        "trusted": true
      },
      "outputs": [],
      "execution_count": null
    }
  ]
}